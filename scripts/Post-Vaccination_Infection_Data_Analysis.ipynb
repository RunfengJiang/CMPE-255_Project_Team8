{
 "cells": [
  {
   "cell_type": "code",
   "execution_count": 1,
   "id": "c921230e",
   "metadata": {},
   "outputs": [],
   "source": [
    "import pandas as pd\n",
    "import numpy as np\n",
    "import matplotlib.pyplot as plt\n",
    "from sklearn.preprocessing import OrdinalEncoder, MinMaxScaler, LabelEncoder\n",
    "\n",
    "#booster number is no longer available from official dataset...\n",
    "post_vacc_inf = pd.read_csv(\"../data/covid19postvaxstatewidestats.csv\")\n",
    "\n",
    "vacc_prog = pd.read_csv(\"../data/covid19vaccinesbycounty.csv\")"
   ]
  },
  {
   "cell_type": "markdown",
   "id": "63ea61e1",
   "metadata": {},
   "source": [
    "## Post-Vaccination_Infection_Data study"
   ]
  },
  {
   "cell_type": "code",
   "execution_count": 2,
   "id": "67a4f326",
   "metadata": {},
   "outputs": [
    {
     "data": {
      "text/html": [
       "<div>\n",
       "<style scoped>\n",
       "    .dataframe tbody tr th:only-of-type {\n",
       "        vertical-align: middle;\n",
       "    }\n",
       "\n",
       "    .dataframe tbody tr th {\n",
       "        vertical-align: top;\n",
       "    }\n",
       "\n",
       "    .dataframe thead th {\n",
       "        text-align: right;\n",
       "    }\n",
       "</style>\n",
       "<table border=\"1\" class=\"dataframe\">\n",
       "  <thead>\n",
       "    <tr style=\"text-align: right;\">\n",
       "      <th></th>\n",
       "      <th>date</th>\n",
       "      <th>area</th>\n",
       "      <th>area_type</th>\n",
       "      <th>unvaccinated_cases</th>\n",
       "      <th>vaccinated_cases</th>\n",
       "      <th>unvaccinated_hosp</th>\n",
       "      <th>vaccinated_hosp</th>\n",
       "      <th>unvaccinated_deaths</th>\n",
       "      <th>vaccinated_deaths</th>\n",
       "      <th>population_unvaccinated</th>\n",
       "      <th>population_vaccinated</th>\n",
       "      <th>unvaccinated_cases_per_100k</th>\n",
       "      <th>vaccinated_cases_per_100k</th>\n",
       "      <th>unvaccinated_hosp_per_100k</th>\n",
       "      <th>vaccinated_hosp_per_100k</th>\n",
       "      <th>unvaccinated_deaths_per_100k</th>\n",
       "      <th>vaccinated_deaths_per_100k</th>\n",
       "    </tr>\n",
       "  </thead>\n",
       "  <tbody>\n",
       "    <tr>\n",
       "      <th>0</th>\n",
       "      <td>2021-02-01</td>\n",
       "      <td>California</td>\n",
       "      <td>State</td>\n",
       "      <td>14601</td>\n",
       "      <td>24</td>\n",
       "      <td>779</td>\n",
       "      <td>1</td>\n",
       "      <td>12</td>\n",
       "      <td>0</td>\n",
       "      <td>36192255</td>\n",
       "      <td>338385</td>\n",
       "      <td>NaN</td>\n",
       "      <td>NaN</td>\n",
       "      <td>NaN</td>\n",
       "      <td>NaN</td>\n",
       "      <td>NaN</td>\n",
       "      <td>NaN</td>\n",
       "    </tr>\n",
       "    <tr>\n",
       "      <th>1</th>\n",
       "      <td>2021-02-02</td>\n",
       "      <td>California</td>\n",
       "      <td>State</td>\n",
       "      <td>12073</td>\n",
       "      <td>21</td>\n",
       "      <td>601</td>\n",
       "      <td>0</td>\n",
       "      <td>15</td>\n",
       "      <td>0</td>\n",
       "      <td>36075564</td>\n",
       "      <td>372611</td>\n",
       "      <td>NaN</td>\n",
       "      <td>NaN</td>\n",
       "      <td>NaN</td>\n",
       "      <td>NaN</td>\n",
       "      <td>NaN</td>\n",
       "      <td>NaN</td>\n",
       "    </tr>\n",
       "    <tr>\n",
       "      <th>2</th>\n",
       "      <td>2021-02-03</td>\n",
       "      <td>California</td>\n",
       "      <td>State</td>\n",
       "      <td>11012</td>\n",
       "      <td>26</td>\n",
       "      <td>556</td>\n",
       "      <td>0</td>\n",
       "      <td>18</td>\n",
       "      <td>0</td>\n",
       "      <td>35940521</td>\n",
       "      <td>409171</td>\n",
       "      <td>NaN</td>\n",
       "      <td>NaN</td>\n",
       "      <td>NaN</td>\n",
       "      <td>NaN</td>\n",
       "      <td>NaN</td>\n",
       "      <td>NaN</td>\n",
       "    </tr>\n",
       "    <tr>\n",
       "      <th>3</th>\n",
       "      <td>2021-02-04</td>\n",
       "      <td>California</td>\n",
       "      <td>State</td>\n",
       "      <td>9658</td>\n",
       "      <td>17</td>\n",
       "      <td>487</td>\n",
       "      <td>0</td>\n",
       "      <td>19</td>\n",
       "      <td>0</td>\n",
       "      <td>35776707</td>\n",
       "      <td>430461</td>\n",
       "      <td>NaN</td>\n",
       "      <td>NaN</td>\n",
       "      <td>NaN</td>\n",
       "      <td>NaN</td>\n",
       "      <td>NaN</td>\n",
       "      <td>NaN</td>\n",
       "    </tr>\n",
       "    <tr>\n",
       "      <th>4</th>\n",
       "      <td>2021-02-05</td>\n",
       "      <td>California</td>\n",
       "      <td>State</td>\n",
       "      <td>8978</td>\n",
       "      <td>16</td>\n",
       "      <td>506</td>\n",
       "      <td>1</td>\n",
       "      <td>28</td>\n",
       "      <td>0</td>\n",
       "      <td>35613292</td>\n",
       "      <td>446131</td>\n",
       "      <td>NaN</td>\n",
       "      <td>NaN</td>\n",
       "      <td>NaN</td>\n",
       "      <td>NaN</td>\n",
       "      <td>NaN</td>\n",
       "      <td>NaN</td>\n",
       "    </tr>\n",
       "    <tr>\n",
       "      <th>...</th>\n",
       "      <td>...</td>\n",
       "      <td>...</td>\n",
       "      <td>...</td>\n",
       "      <td>...</td>\n",
       "      <td>...</td>\n",
       "      <td>...</td>\n",
       "      <td>...</td>\n",
       "      <td>...</td>\n",
       "      <td>...</td>\n",
       "      <td>...</td>\n",
       "      <td>...</td>\n",
       "      <td>...</td>\n",
       "      <td>...</td>\n",
       "      <td>...</td>\n",
       "      <td>...</td>\n",
       "      <td>...</td>\n",
       "      <td>...</td>\n",
       "    </tr>\n",
       "    <tr>\n",
       "      <th>572</th>\n",
       "      <td>2022-08-27</td>\n",
       "      <td>California</td>\n",
       "      <td>State</td>\n",
       "      <td>1554</td>\n",
       "      <td>2857</td>\n",
       "      <td>91</td>\n",
       "      <td>127</td>\n",
       "      <td>5</td>\n",
       "      <td>12</td>\n",
       "      <td>6024506</td>\n",
       "      <td>28690476</td>\n",
       "      <td>44.226507</td>\n",
       "      <td>15.465560</td>\n",
       "      <td>1.946810</td>\n",
       "      <td>0.608465</td>\n",
       "      <td>0.196815</td>\n",
       "      <td>0.060747</td>\n",
       "    </tr>\n",
       "    <tr>\n",
       "      <th>573</th>\n",
       "      <td>2022-08-28</td>\n",
       "      <td>California</td>\n",
       "      <td>State</td>\n",
       "      <td>1450</td>\n",
       "      <td>2650</td>\n",
       "      <td>97</td>\n",
       "      <td>150</td>\n",
       "      <td>11</td>\n",
       "      <td>21</td>\n",
       "      <td>6023173</td>\n",
       "      <td>28691326</td>\n",
       "      <td>43.439373</td>\n",
       "      <td>15.229590</td>\n",
       "      <td>1.947241</td>\n",
       "      <td>0.605957</td>\n",
       "      <td>0.206346</td>\n",
       "      <td>0.060247</td>\n",
       "    </tr>\n",
       "    <tr>\n",
       "      <th>574</th>\n",
       "      <td>2022-08-29</td>\n",
       "      <td>California</td>\n",
       "      <td>State</td>\n",
       "      <td>3134</td>\n",
       "      <td>5197</td>\n",
       "      <td>122</td>\n",
       "      <td>190</td>\n",
       "      <td>9</td>\n",
       "      <td>15</td>\n",
       "      <td>6019300</td>\n",
       "      <td>28694254</td>\n",
       "      <td>41.684961</td>\n",
       "      <td>14.700305</td>\n",
       "      <td>1.936628</td>\n",
       "      <td>0.602410</td>\n",
       "      <td>0.177999</td>\n",
       "      <td>0.058747</td>\n",
       "    </tr>\n",
       "    <tr>\n",
       "      <th>575</th>\n",
       "      <td>2022-08-30</td>\n",
       "      <td>California</td>\n",
       "      <td>State</td>\n",
       "      <td>2840</td>\n",
       "      <td>4255</td>\n",
       "      <td>133</td>\n",
       "      <td>166</td>\n",
       "      <td>18</td>\n",
       "      <td>15</td>\n",
       "      <td>6015804</td>\n",
       "      <td>28697002</td>\n",
       "      <td>40.581204</td>\n",
       "      <td>14.132885</td>\n",
       "      <td>1.933004</td>\n",
       "      <td>0.575471</td>\n",
       "      <td>0.187601</td>\n",
       "      <td>0.060235</td>\n",
       "    </tr>\n",
       "    <tr>\n",
       "      <th>576</th>\n",
       "      <td>2022-08-31</td>\n",
       "      <td>California</td>\n",
       "      <td>State</td>\n",
       "      <td>2463</td>\n",
       "      <td>3846</td>\n",
       "      <td>93</td>\n",
       "      <td>174</td>\n",
       "      <td>13</td>\n",
       "      <td>18</td>\n",
       "      <td>6012107</td>\n",
       "      <td>28699809</td>\n",
       "      <td>39.484612</td>\n",
       "      <td>13.629259</td>\n",
       "      <td>1.817761</td>\n",
       "      <td>0.573921</td>\n",
       "      <td>0.187716</td>\n",
       "      <td>0.060229</td>\n",
       "    </tr>\n",
       "  </tbody>\n",
       "</table>\n",
       "<p>577 rows × 17 columns</p>\n",
       "</div>"
      ],
      "text/plain": [
       "           date        area area_type  unvaccinated_cases  vaccinated_cases  \\\n",
       "0    2021-02-01  California     State               14601                24   \n",
       "1    2021-02-02  California     State               12073                21   \n",
       "2    2021-02-03  California     State               11012                26   \n",
       "3    2021-02-04  California     State                9658                17   \n",
       "4    2021-02-05  California     State                8978                16   \n",
       "..          ...         ...       ...                 ...               ...   \n",
       "572  2022-08-27  California     State                1554              2857   \n",
       "573  2022-08-28  California     State                1450              2650   \n",
       "574  2022-08-29  California     State                3134              5197   \n",
       "575  2022-08-30  California     State                2840              4255   \n",
       "576  2022-08-31  California     State                2463              3846   \n",
       "\n",
       "     unvaccinated_hosp  vaccinated_hosp  unvaccinated_deaths  \\\n",
       "0                  779                1                   12   \n",
       "1                  601                0                   15   \n",
       "2                  556                0                   18   \n",
       "3                  487                0                   19   \n",
       "4                  506                1                   28   \n",
       "..                 ...              ...                  ...   \n",
       "572                 91              127                    5   \n",
       "573                 97              150                   11   \n",
       "574                122              190                    9   \n",
       "575                133              166                   18   \n",
       "576                 93              174                   13   \n",
       "\n",
       "     vaccinated_deaths  population_unvaccinated  population_vaccinated  \\\n",
       "0                    0                 36192255                 338385   \n",
       "1                    0                 36075564                 372611   \n",
       "2                    0                 35940521                 409171   \n",
       "3                    0                 35776707                 430461   \n",
       "4                    0                 35613292                 446131   \n",
       "..                 ...                      ...                    ...   \n",
       "572                 12                  6024506               28690476   \n",
       "573                 21                  6023173               28691326   \n",
       "574                 15                  6019300               28694254   \n",
       "575                 15                  6015804               28697002   \n",
       "576                 18                  6012107               28699809   \n",
       "\n",
       "     unvaccinated_cases_per_100k  vaccinated_cases_per_100k  \\\n",
       "0                            NaN                        NaN   \n",
       "1                            NaN                        NaN   \n",
       "2                            NaN                        NaN   \n",
       "3                            NaN                        NaN   \n",
       "4                            NaN                        NaN   \n",
       "..                           ...                        ...   \n",
       "572                    44.226507                  15.465560   \n",
       "573                    43.439373                  15.229590   \n",
       "574                    41.684961                  14.700305   \n",
       "575                    40.581204                  14.132885   \n",
       "576                    39.484612                  13.629259   \n",
       "\n",
       "     unvaccinated_hosp_per_100k  vaccinated_hosp_per_100k  \\\n",
       "0                           NaN                       NaN   \n",
       "1                           NaN                       NaN   \n",
       "2                           NaN                       NaN   \n",
       "3                           NaN                       NaN   \n",
       "4                           NaN                       NaN   \n",
       "..                          ...                       ...   \n",
       "572                    1.946810                  0.608465   \n",
       "573                    1.947241                  0.605957   \n",
       "574                    1.936628                  0.602410   \n",
       "575                    1.933004                  0.575471   \n",
       "576                    1.817761                  0.573921   \n",
       "\n",
       "     unvaccinated_deaths_per_100k  vaccinated_deaths_per_100k  \n",
       "0                             NaN                         NaN  \n",
       "1                             NaN                         NaN  \n",
       "2                             NaN                         NaN  \n",
       "3                             NaN                         NaN  \n",
       "4                             NaN                         NaN  \n",
       "..                            ...                         ...  \n",
       "572                      0.196815                    0.060747  \n",
       "573                      0.206346                    0.060247  \n",
       "574                      0.177999                    0.058747  \n",
       "575                      0.187601                    0.060235  \n",
       "576                      0.187716                    0.060229  \n",
       "\n",
       "[577 rows x 17 columns]"
      ]
     },
     "execution_count": 2,
     "metadata": {},
     "output_type": "execute_result"
    }
   ],
   "source": [
    "# This table shows stats of california state infection data respect to vaccination\n",
    "post_vacc_inf"
   ]
  },
  {
   "cell_type": "code",
   "execution_count": 3,
   "id": "2d405250",
   "metadata": {},
   "outputs": [
    {
     "data": {
      "text/plain": [
       "2021-10-24    1\n",
       "2022-06-29    1\n",
       "2022-05-27    1\n",
       "2022-03-19    1\n",
       "2021-09-04    1\n",
       "             ..\n",
       "2022-05-30    1\n",
       "2022-08-10    1\n",
       "2022-07-03    1\n",
       "2022-06-11    1\n",
       "2022-03-20    1\n",
       "Name: date, Length: 577, dtype: int64"
      ]
     },
     "execution_count": 3,
     "metadata": {},
     "output_type": "execute_result"
    }
   ],
   "source": [
    "# It is a daily data from 2021-02-01 to 2022-02-13\n",
    "# March 2022 data also available online\n",
    "post_vacc_inf['date'].value_counts()"
   ]
  },
  {
   "cell_type": "code",
   "execution_count": 4,
   "id": "b780ff6b",
   "metadata": {},
   "outputs": [
    {
     "name": "stdout",
     "output_type": "stream",
     "text": [
      "unvaccinated_cases_per_100k has 6 missing data\n",
      "vaccinated_cases_per_100k has 6 missing data\n",
      "unvaccinated_hosp_per_100k has 6 missing data\n",
      "vaccinated_hosp_per_100k has 6 missing data\n",
      "unvaccinated_deaths_per_100k has 6 missing data\n",
      "vaccinated_deaths_per_100k has 6 missing data\n"
     ]
    }
   ],
   "source": [
    "# Check for missing data\n",
    "for column in post_vacc_inf.columns:\n",
    "    count = post_vacc_inf[column].isnull().sum()\n",
    "    if count > 0:\n",
    "      print(f'{column} has {count} missing data')\n",
    "    \n",
    "# the reason of missing data are the first 6 days without vaccine and first 193 days bootster not released\n",
    "## We should fill data with 0 in preprocessing"
   ]
  },
  {
   "cell_type": "code",
   "execution_count": 5,
   "id": "6a36765e",
   "metadata": {},
   "outputs": [
    {
     "name": "stdout",
     "output_type": "stream",
     "text": [
      "<class 'pandas.core.frame.DataFrame'>\n",
      "RangeIndex: 577 entries, 0 to 576\n",
      "Data columns (total 17 columns):\n",
      " #   Column                        Non-Null Count  Dtype  \n",
      "---  ------                        --------------  -----  \n",
      " 0   date                          577 non-null    object \n",
      " 1   area                          577 non-null    object \n",
      " 2   area_type                     577 non-null    object \n",
      " 3   unvaccinated_cases            577 non-null    int64  \n",
      " 4   vaccinated_cases              577 non-null    int64  \n",
      " 5   unvaccinated_hosp             577 non-null    int64  \n",
      " 6   vaccinated_hosp               577 non-null    int64  \n",
      " 7   unvaccinated_deaths           577 non-null    int64  \n",
      " 8   vaccinated_deaths             577 non-null    int64  \n",
      " 9   population_unvaccinated       577 non-null    int64  \n",
      " 10  population_vaccinated         577 non-null    int64  \n",
      " 11  unvaccinated_cases_per_100k   571 non-null    float64\n",
      " 12  vaccinated_cases_per_100k     571 non-null    float64\n",
      " 13  unvaccinated_hosp_per_100k    571 non-null    float64\n",
      " 14  vaccinated_hosp_per_100k      571 non-null    float64\n",
      " 15  unvaccinated_deaths_per_100k  571 non-null    float64\n",
      " 16  vaccinated_deaths_per_100k    571 non-null    float64\n",
      "dtypes: float64(6), int64(8), object(3)\n",
      "memory usage: 76.8+ KB\n"
     ]
    }
   ],
   "source": [
    "# Data type on the table looks already cleaned\n",
    "post_vacc_inf.info()"
   ]
  },
  {
   "cell_type": "code",
   "execution_count": 7,
   "id": "a7ab619e",
   "metadata": {},
   "outputs": [
    {
     "data": {
      "image/png": "[encoded data removed]",
      "text/plain": [
       "<Figure size 432x288 with 1 Axes>"
      ]
     },
     "metadata": {
      "needs_background": "light"
     },
     "output_type": "display_data"
    },
    {
     "data": {
      "image/png": "[encoded data removed]",
      "text/plain": [
       "<Figure size 432x288 with 1 Axes>"
      ]
     },
     "metadata": {
      "needs_background": "light"
     },
     "output_type": "display_data"
    },
    {
     "data": {
      "image/png": "[encoded data removed]",
      "text/plain": [
       "<Figure size 432x288 with 1 Axes>"
      ]
     },
     "metadata": {
      "needs_background": "light"
     },
     "output_type": "display_data"
    }
   ],
   "source": [
    "plt.plot(post_vacc_inf['date'], post_vacc_inf['population_unvaccinated'])\n",
    "plt.title('population_unvaccinated trend')\n",
    "plt.xlabel('date')\n",
    "plt.ylabel('population')\n",
    "plt.show()\n",
    "\n",
    "plt.plot(post_vacc_inf['date'], post_vacc_inf['population_vaccinated'])\n",
    "plt.title('population_vaccinated trend')\n",
    "plt.xlabel('date')\n",
    "plt.ylabel('population')\n",
    "plt.show()\n",
    "\n",
    "# plt.plot(post_vacc_inf['date'], post_vacc_inf['population_boosted'])\n",
    "# plt.title('population_boosted trend')\n",
    "# plt.xlabel('date')\n",
    "# plt.ylabel('population')\n",
    "# plt.show()\n",
    "\n",
    "plt.plot(post_vacc_inf['date'], post_vacc_inf['population_unvaccinated'] + post_vacc_inf['population_vaccinated'])\n",
    "plt.title('population trend')\n",
    "plt.xlabel('date')\n",
    "plt.ylabel('population')\n",
    "plt.show()\n"
   ]
  },
  {
   "cell_type": "code",
   "execution_count": 8,
   "id": "d4475400",
   "metadata": {},
   "outputs": [
    {
     "data": {
      "text/plain": [
       "0    36530640\n",
       "1    36448175\n",
       "2    36349692\n",
       "3    36207168\n",
       "4    36059423\n",
       "dtype: int64"
      ]
     },
     "execution_count": 8,
     "metadata": {},
     "output_type": "execute_result"
    }
   ],
   "source": [
    "(post_vacc_inf['population_unvaccinated'] + post_vacc_inf['population_vaccinated']).head()"
   ]
  },
  {
   "cell_type": "code",
   "execution_count": 9,
   "id": "19aa89a5",
   "metadata": {},
   "outputs": [
    {
     "data": {
      "text/plain": [
       "90    2021-05-02\n",
       "Name: date, dtype: object"
      ]
     },
     "execution_count": 9,
     "metadata": {},
     "output_type": "execute_result"
    }
   ],
   "source": [
    "total_pop = (post_vacc_inf['population_unvaccinated'] + post_vacc_inf['population_vaccinated'])\n",
    "post_vacc_inf.loc[(total_pop.min() == total_pop)]['date']\n",
    "\n",
    "# Population droped until 2021-05-02, it could be people moving out of state/death/etc."
   ]
  },
  {
   "cell_type": "code",
   "execution_count": 10,
   "id": "2184340f",
   "metadata": {},
   "outputs": [
    {
     "data": {
      "image/png": "[encoded data removed]",
      "text/plain": [
       "<Figure size 432x288 with 1 Axes>"
      ]
     },
     "metadata": {
      "needs_background": "light"
     },
     "output_type": "display_data"
    }
   ],
   "source": [
    "# Comparasion of infection rate between unvaccinated, unvaccinated, and boosted.\n",
    "\n",
    "plt.plot(post_vacc_inf['date'], post_vacc_inf['unvaccinated_cases_per_100k'], label='unvaccinated_cases')\n",
    "plt.plot(post_vacc_inf['date'], post_vacc_inf['vaccinated_cases_per_100k'], label='vaccinated_cases')\n",
    "# plt.plot(post_vacc_inf['date'], post_vacc_inf['boosted_cases_per_100k'], label='boosted_cases')\n",
    "plt.title('cases_per_100k trend')\n",
    "plt.xlabel('date')\n",
    "plt.ylabel('infection rate')\n",
    "plt.legend()\n",
    "plt.show()"
   ]
  },
  {
   "cell_type": "code",
   "execution_count": 11,
   "id": "13216512",
   "metadata": {},
   "outputs": [
    {
     "data": {
      "image/png": "[encoded data removed]",
      "text/plain": [
       "<Figure size 432x288 with 1 Axes>"
      ]
     },
     "metadata": {
      "needs_background": "light"
     },
     "output_type": "display_data"
    }
   ],
   "source": [
    "# Comparasion of hospitalize rate between unvaccinated, unvaccinated, and boosted.\n",
    "\n",
    "plt.plot(post_vacc_inf['date'], post_vacc_inf['unvaccinated_hosp_per_100k'], label='unvaccinated_hosp')\n",
    "plt.plot(post_vacc_inf['date'], post_vacc_inf['vaccinated_hosp_per_100k'], label='vaccinated_hosp')\n",
    "# plt.plot(post_vacc_inf['date'], post_vacc_inf['boosted_hosp_per_100k'], label='boosted_hosp')\n",
    "plt.title('hospitalize_per_100k trend')\n",
    "plt.xlabel('date')\n",
    "plt.ylabel('hospitalize rate')\n",
    "plt.legend()\n",
    "plt.show()"
   ]
  },
  {
   "cell_type": "code",
   "execution_count": 12,
   "id": "602cda09",
   "metadata": {},
   "outputs": [
    {
     "data": {
      "image/png": "[encoded data removed]",
      "text/plain": [
       "<Figure size 432x288 with 1 Axes>"
      ]
     },
     "metadata": {
      "needs_background": "light"
     },
     "output_type": "display_data"
    }
   ],
   "source": [
    "# Comparasion of death rate between unvaccinated, unvaccinated, and boosted.\n",
    "\n",
    "plt.plot(post_vacc_inf['date'], post_vacc_inf['unvaccinated_deaths_per_100k'], label='unvaccinated_deaths')\n",
    "plt.plot(post_vacc_inf['date'], post_vacc_inf['vaccinated_deaths_per_100k'], label='vaccinated_deaths')\n",
    "# plt.plot(post_vacc_inf['date'], post_vacc_inf['boosted_deaths_per_100k'], label='boosted_deaths')\n",
    "plt.title('deaths_per_100k trend')\n",
    "plt.xlabel('date')\n",
    "plt.ylabel('death rate')\n",
    "plt.legend()\n",
    "plt.show()"
   ]
  },
  {
   "cell_type": "markdown",
   "id": "700174f5",
   "metadata": {},
   "source": [
    "https://www.cdc.gov/flu/about/burden/2017-2018.htm#:~:text=The%20overall%20burden%20of%20flu,related%20deaths%20(Table%201).\n",
    "\n",
    "According to CDC data for 2017-2018 flu has following rate:\n",
    "- Case per 100k: (18,957,179/41,043,550) * 100,000 = 46187\n",
    "- Hosp per 100k: (710,572/41,043,550) * 100,000 = 1731\n",
    "- Death per 100k: (51,646/41,043,550) * 100,000 = 125\n",
    "\n",
    "Here is the data from our California Dataset:\n",
    "- Case per 100k (Max): 800~\n",
    "- Hosp per 100k (Max): 16~\n",
    "- Death per 100k (Max): 2.5~"
   ]
  },
  {
   "cell_type": "code",
   "execution_count": null,
   "id": "ee3f1a6b",
   "metadata": {},
   "outputs": [],
   "source": []
  }
 ],
 "metadata": {
  "kernelspec": {
   "display_name": "Python 3",
   "language": "python",
   "name": "python3"
  },
  "language_info": {
   "codemirror_mode": {
    "name": "ipython",
    "version": 3
   },
   "file_extension": ".py",
   "mimetype": "text/x-python",
   "name": "python",
   "nbconvert_exporter": "python",
   "pygments_lexer": "ipython3",
   "version": "3.8.8"
  }
 },
 "nbformat": 4,
 "nbformat_minor": 5
}
