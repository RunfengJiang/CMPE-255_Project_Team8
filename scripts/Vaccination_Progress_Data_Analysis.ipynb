{
 "cells": [
  {
   "cell_type": "code",
   "execution_count": 1,
   "id": "cafbffd4",
   "metadata": {},
   "outputs": [],
   "source": [
    "import pandas as pd\n",
    "import numpy as np\n",
    "import matplotlib.pyplot as plt\n",
    "from sklearn.preprocessing import OrdinalEncoder, MinMaxScaler, LabelEncoder\n",
    "\n",
    "post_vacc_inf = pd.read_csv(\"../data/Post-Vaccination_Infection_Data.csv\")\n",
    "\n",
    "vacc_prog = pd.read_csv(\"../data/Vaccine_Progress_Dashboard_Data.csv\")"
   ]
  },
  {
   "cell_type": "markdown",
   "id": "2498486d",
   "metadata": {},
   "source": [
    "## Vaccination_Progress_Data study"
   ]
  },
  {
   "cell_type": "code",
   "execution_count": 2,
   "id": "483abf7b",
   "metadata": {
    "scrolled": true
   },
   "outputs": [
    {
     "data": {
      "text/html": [
       "<div>\n",
       "<style scoped>\n",
       "    .dataframe tbody tr th:only-of-type {\n",
       "        vertical-align: middle;\n",
       "    }\n",
       "\n",
       "    .dataframe tbody tr th {\n",
       "        vertical-align: top;\n",
       "    }\n",
       "\n",
       "    .dataframe thead th {\n",
       "        text-align: right;\n",
       "    }\n",
       "</style>\n",
       "<table border=\"1\" class=\"dataframe\">\n",
       "  <thead>\n",
       "    <tr style=\"text-align: right;\">\n",
       "      <th></th>\n",
       "      <th>county</th>\n",
       "      <th>administered_date</th>\n",
       "      <th>total_doses</th>\n",
       "      <th>cumulative_total_doses</th>\n",
       "      <th>pfizer_doses</th>\n",
       "      <th>cumulative_pfizer_doses</th>\n",
       "      <th>moderna_doses</th>\n",
       "      <th>cumulative_moderna_doses</th>\n",
       "      <th>jj_doses</th>\n",
       "      <th>cumulative_jj_doses</th>\n",
       "      <th>partially_vaccinated</th>\n",
       "      <th>total_partially_vaccinated</th>\n",
       "      <th>fully_vaccinated</th>\n",
       "      <th>cumulative_fully_vaccinated</th>\n",
       "      <th>at_least_one_dose</th>\n",
       "      <th>cumulative_at_least_one_dose</th>\n",
       "      <th>california_flag</th>\n",
       "      <th>booster_recip_count</th>\n",
       "      <th>cumulative_booster_recip_count</th>\n",
       "    </tr>\n",
       "  </thead>\n",
       "  <tbody>\n",
       "    <tr>\n",
       "      <th>0</th>\n",
       "      <td>Alameda</td>\n",
       "      <td>2020-01-05</td>\n",
       "      <td>0</td>\n",
       "      <td>0</td>\n",
       "      <td>0</td>\n",
       "      <td>0</td>\n",
       "      <td>0</td>\n",
       "      <td>0</td>\n",
       "      <td>0</td>\n",
       "      <td>0</td>\n",
       "      <td>0</td>\n",
       "      <td>0</td>\n",
       "      <td>0</td>\n",
       "      <td>0</td>\n",
       "      <td>0</td>\n",
       "      <td>0</td>\n",
       "      <td>NaN</td>\n",
       "      <td>0</td>\n",
       "      <td>0</td>\n",
       "    </tr>\n",
       "    <tr>\n",
       "      <th>1</th>\n",
       "      <td>Alameda</td>\n",
       "      <td>2020-07-27</td>\n",
       "      <td>0</td>\n",
       "      <td>0</td>\n",
       "      <td>0</td>\n",
       "      <td>0</td>\n",
       "      <td>0</td>\n",
       "      <td>0</td>\n",
       "      <td>0</td>\n",
       "      <td>0</td>\n",
       "      <td>0</td>\n",
       "      <td>0</td>\n",
       "      <td>0</td>\n",
       "      <td>0</td>\n",
       "      <td>0</td>\n",
       "      <td>0</td>\n",
       "      <td>NaN</td>\n",
       "      <td>0</td>\n",
       "      <td>0</td>\n",
       "    </tr>\n",
       "    <tr>\n",
       "      <th>2</th>\n",
       "      <td>Alameda</td>\n",
       "      <td>2020-07-29</td>\n",
       "      <td>0</td>\n",
       "      <td>1</td>\n",
       "      <td>0</td>\n",
       "      <td>0</td>\n",
       "      <td>0</td>\n",
       "      <td>1</td>\n",
       "      <td>0</td>\n",
       "      <td>0</td>\n",
       "      <td>0</td>\n",
       "      <td>1</td>\n",
       "      <td>0</td>\n",
       "      <td>0</td>\n",
       "      <td>0</td>\n",
       "      <td>1</td>\n",
       "      <td>NaN</td>\n",
       "      <td>0</td>\n",
       "      <td>0</td>\n",
       "    </tr>\n",
       "    <tr>\n",
       "      <th>3</th>\n",
       "      <td>Alameda</td>\n",
       "      <td>2020-07-30</td>\n",
       "      <td>0</td>\n",
       "      <td>1</td>\n",
       "      <td>0</td>\n",
       "      <td>0</td>\n",
       "      <td>0</td>\n",
       "      <td>1</td>\n",
       "      <td>0</td>\n",
       "      <td>0</td>\n",
       "      <td>0</td>\n",
       "      <td>1</td>\n",
       "      <td>0</td>\n",
       "      <td>0</td>\n",
       "      <td>0</td>\n",
       "      <td>1</td>\n",
       "      <td>NaN</td>\n",
       "      <td>0</td>\n",
       "      <td>0</td>\n",
       "    </tr>\n",
       "    <tr>\n",
       "      <th>4</th>\n",
       "      <td>Alameda</td>\n",
       "      <td>2020-07-31</td>\n",
       "      <td>0</td>\n",
       "      <td>1</td>\n",
       "      <td>0</td>\n",
       "      <td>0</td>\n",
       "      <td>0</td>\n",
       "      <td>1</td>\n",
       "      <td>0</td>\n",
       "      <td>0</td>\n",
       "      <td>0</td>\n",
       "      <td>1</td>\n",
       "      <td>0</td>\n",
       "      <td>0</td>\n",
       "      <td>0</td>\n",
       "      <td>1</td>\n",
       "      <td>NaN</td>\n",
       "      <td>0</td>\n",
       "      <td>0</td>\n",
       "    </tr>\n",
       "    <tr>\n",
       "      <th>...</th>\n",
       "      <td>...</td>\n",
       "      <td>...</td>\n",
       "      <td>...</td>\n",
       "      <td>...</td>\n",
       "      <td>...</td>\n",
       "      <td>...</td>\n",
       "      <td>...</td>\n",
       "      <td>...</td>\n",
       "      <td>...</td>\n",
       "      <td>...</td>\n",
       "      <td>...</td>\n",
       "      <td>...</td>\n",
       "      <td>...</td>\n",
       "      <td>...</td>\n",
       "      <td>...</td>\n",
       "      <td>...</td>\n",
       "      <td>...</td>\n",
       "      <td>...</td>\n",
       "      <td>...</td>\n",
       "    </tr>\n",
       "    <tr>\n",
       "      <th>40233</th>\n",
       "      <td>Yuba</td>\n",
       "      <td>2022-05-01</td>\n",
       "      <td>16</td>\n",
       "      <td>95111</td>\n",
       "      <td>12</td>\n",
       "      <td>38650</td>\n",
       "      <td>4</td>\n",
       "      <td>49016</td>\n",
       "      <td>0</td>\n",
       "      <td>4770</td>\n",
       "      <td>3</td>\n",
       "      <td>3683</td>\n",
       "      <td>4</td>\n",
       "      <td>38741</td>\n",
       "      <td>3</td>\n",
       "      <td>42424</td>\n",
       "      <td>California</td>\n",
       "      <td>3</td>\n",
       "      <td>16449</td>\n",
       "    </tr>\n",
       "    <tr>\n",
       "      <th>40234</th>\n",
       "      <td>Yuba</td>\n",
       "      <td>2022-05-02</td>\n",
       "      <td>44</td>\n",
       "      <td>95155</td>\n",
       "      <td>18</td>\n",
       "      <td>38668</td>\n",
       "      <td>25</td>\n",
       "      <td>49041</td>\n",
       "      <td>1</td>\n",
       "      <td>4771</td>\n",
       "      <td>6</td>\n",
       "      <td>3686</td>\n",
       "      <td>4</td>\n",
       "      <td>38745</td>\n",
       "      <td>7</td>\n",
       "      <td>42431</td>\n",
       "      <td>California</td>\n",
       "      <td>5</td>\n",
       "      <td>16454</td>\n",
       "    </tr>\n",
       "    <tr>\n",
       "      <th>40235</th>\n",
       "      <td>Yuba</td>\n",
       "      <td>2022-05-03</td>\n",
       "      <td>52</td>\n",
       "      <td>95207</td>\n",
       "      <td>21</td>\n",
       "      <td>38689</td>\n",
       "      <td>28</td>\n",
       "      <td>49069</td>\n",
       "      <td>2</td>\n",
       "      <td>4773</td>\n",
       "      <td>2</td>\n",
       "      <td>3682</td>\n",
       "      <td>8</td>\n",
       "      <td>38753</td>\n",
       "      <td>4</td>\n",
       "      <td>42435</td>\n",
       "      <td>California</td>\n",
       "      <td>11</td>\n",
       "      <td>16465</td>\n",
       "    </tr>\n",
       "    <tr>\n",
       "      <th>40236</th>\n",
       "      <td>Yuba</td>\n",
       "      <td>2022-05-04</td>\n",
       "      <td>51</td>\n",
       "      <td>95258</td>\n",
       "      <td>18</td>\n",
       "      <td>38707</td>\n",
       "      <td>31</td>\n",
       "      <td>49100</td>\n",
       "      <td>0</td>\n",
       "      <td>4773</td>\n",
       "      <td>10</td>\n",
       "      <td>3690</td>\n",
       "      <td>2</td>\n",
       "      <td>38755</td>\n",
       "      <td>10</td>\n",
       "      <td>42445</td>\n",
       "      <td>California</td>\n",
       "      <td>13</td>\n",
       "      <td>16478</td>\n",
       "    </tr>\n",
       "    <tr>\n",
       "      <th>40237</th>\n",
       "      <td>Yuba</td>\n",
       "      <td>2022-05-05</td>\n",
       "      <td>28</td>\n",
       "      <td>95286</td>\n",
       "      <td>9</td>\n",
       "      <td>38716</td>\n",
       "      <td>15</td>\n",
       "      <td>49115</td>\n",
       "      <td>0</td>\n",
       "      <td>4773</td>\n",
       "      <td>2</td>\n",
       "      <td>3689</td>\n",
       "      <td>3</td>\n",
       "      <td>38758</td>\n",
       "      <td>2</td>\n",
       "      <td>42447</td>\n",
       "      <td>California</td>\n",
       "      <td>2</td>\n",
       "      <td>16480</td>\n",
       "    </tr>\n",
       "  </tbody>\n",
       "</table>\n",
       "<p>40238 rows × 19 columns</p>\n",
       "</div>"
      ],
      "text/plain": [
       "        county administered_date  total_doses  cumulative_total_doses  \\\n",
       "0      Alameda        2020-01-05            0                       0   \n",
       "1      Alameda        2020-07-27            0                       0   \n",
       "2      Alameda        2020-07-29            0                       1   \n",
       "3      Alameda        2020-07-30            0                       1   \n",
       "4      Alameda        2020-07-31            0                       1   \n",
       "...        ...               ...          ...                     ...   \n",
       "40233     Yuba        2022-05-01           16                   95111   \n",
       "40234     Yuba        2022-05-02           44                   95155   \n",
       "40235     Yuba        2022-05-03           52                   95207   \n",
       "40236     Yuba        2022-05-04           51                   95258   \n",
       "40237     Yuba        2022-05-05           28                   95286   \n",
       "\n",
       "       pfizer_doses  cumulative_pfizer_doses  moderna_doses  \\\n",
       "0                 0                        0              0   \n",
       "1                 0                        0              0   \n",
       "2                 0                        0              0   \n",
       "3                 0                        0              0   \n",
       "4                 0                        0              0   \n",
       "...             ...                      ...            ...   \n",
       "40233            12                    38650              4   \n",
       "40234            18                    38668             25   \n",
       "40235            21                    38689             28   \n",
       "40236            18                    38707             31   \n",
       "40237             9                    38716             15   \n",
       "\n",
       "       cumulative_moderna_doses  jj_doses  cumulative_jj_doses  \\\n",
       "0                             0         0                    0   \n",
       "1                             0         0                    0   \n",
       "2                             1         0                    0   \n",
       "3                             1         0                    0   \n",
       "4                             1         0                    0   \n",
       "...                         ...       ...                  ...   \n",
       "40233                     49016         0                 4770   \n",
       "40234                     49041         1                 4771   \n",
       "40235                     49069         2                 4773   \n",
       "40236                     49100         0                 4773   \n",
       "40237                     49115         0                 4773   \n",
       "\n",
       "       partially_vaccinated  total_partially_vaccinated  fully_vaccinated  \\\n",
       "0                         0                           0                 0   \n",
       "1                         0                           0                 0   \n",
       "2                         0                           1                 0   \n",
       "3                         0                           1                 0   \n",
       "4                         0                           1                 0   \n",
       "...                     ...                         ...               ...   \n",
       "40233                     3                        3683                 4   \n",
       "40234                     6                        3686                 4   \n",
       "40235                     2                        3682                 8   \n",
       "40236                    10                        3690                 2   \n",
       "40237                     2                        3689                 3   \n",
       "\n",
       "       cumulative_fully_vaccinated  at_least_one_dose  \\\n",
       "0                                0                  0   \n",
       "1                                0                  0   \n",
       "2                                0                  0   \n",
       "3                                0                  0   \n",
       "4                                0                  0   \n",
       "...                            ...                ...   \n",
       "40233                        38741                  3   \n",
       "40234                        38745                  7   \n",
       "40235                        38753                  4   \n",
       "40236                        38755                 10   \n",
       "40237                        38758                  2   \n",
       "\n",
       "       cumulative_at_least_one_dose california_flag  booster_recip_count  \\\n",
       "0                                 0             NaN                    0   \n",
       "1                                 0             NaN                    0   \n",
       "2                                 1             NaN                    0   \n",
       "3                                 1             NaN                    0   \n",
       "4                                 1             NaN                    0   \n",
       "...                             ...             ...                  ...   \n",
       "40233                         42424      California                    3   \n",
       "40234                         42431      California                    5   \n",
       "40235                         42435      California                   11   \n",
       "40236                         42445      California                   13   \n",
       "40237                         42447      California                    2   \n",
       "\n",
       "       cumulative_booster_recip_count  \n",
       "0                                   0  \n",
       "1                                   0  \n",
       "2                                   0  \n",
       "3                                   0  \n",
       "4                                   0  \n",
       "...                               ...  \n",
       "40233                           16449  \n",
       "40234                           16454  \n",
       "40235                           16465  \n",
       "40236                           16478  \n",
       "40237                           16480  \n",
       "\n",
       "[40238 rows x 19 columns]"
      ]
     },
     "execution_count": 2,
     "metadata": {},
     "output_type": "execute_result"
    }
   ],
   "source": [
    "# This table shows stats of vaccination progress for counties in california state.\n",
    "vacc_prog"
   ]
  },
  {
   "cell_type": "code",
   "execution_count": 3,
   "id": "6388e2cd",
   "metadata": {},
   "outputs": [
    {
     "data": {
      "text/plain": [
       "2020-01-05    62\n",
       "2021-10-15    62\n",
       "2021-09-27    62\n",
       "2021-09-28    62\n",
       "2021-09-29    62\n",
       "              ..\n",
       "2021-03-01    62\n",
       "2021-03-02    62\n",
       "2021-03-03    62\n",
       "2021-03-04    62\n",
       "2022-05-05    62\n",
       "Name: administered_date, Length: 649, dtype: int64"
      ]
     },
     "execution_count": 3,
     "metadata": {},
     "output_type": "execute_result"
    }
   ],
   "source": [
    "# It is a daily data from 2021-01-05 to 2022-03-06\n",
    "# March 2022 data also available online\n",
    "vacc_prog['administered_date'].value_counts()"
   ]
  },
  {
   "cell_type": "code",
   "execution_count": 4,
   "id": "4b464230",
   "metadata": {},
   "outputs": [
    {
     "data": {
      "text/plain": [
       "array(['Alameda', 'All CA Counties', 'All CA and Non-CA Counties',\n",
       "       'Alpine', 'Amador', 'Butte', 'Calaveras', 'Colusa', 'Contra Costa',\n",
       "       'Del Norte', 'El Dorado', 'Fresno', 'Glenn', 'Humboldt',\n",
       "       'Imperial', 'Inyo', 'Kern', 'Kings', 'Lake', 'Lassen',\n",
       "       'Los Angeles', 'Madera', 'Marin', 'Mariposa', 'Mendocino',\n",
       "       'Merced', 'Modoc', 'Mono', 'Monterey', 'Napa', 'Nevada', 'Orange',\n",
       "       'Outside California', 'Placer', 'Plumas', 'Riverside',\n",
       "       'Sacramento', 'San Benito', 'San Bernardino', 'San Diego',\n",
       "       'San Francisco', 'San Joaquin', 'San Luis Obispo', 'San Mateo',\n",
       "       'Santa Barbara', 'Santa Clara', 'Santa Cruz', 'Shasta', 'Sierra',\n",
       "       'Siskiyou', 'Solano', 'Sonoma', 'Stanislaus', 'Sutter', 'Tehama',\n",
       "       'Trinity', 'Tulare', 'Tuolumne', 'Unknown', 'Ventura', 'Yolo',\n",
       "       'Yuba'], dtype=object)"
      ]
     },
     "execution_count": 4,
     "metadata": {},
     "output_type": "execute_result"
    }
   ],
   "source": [
    "# Found 'All CA Counties' and 'All CA and Non-CA Counties' in the dataset, \n",
    "# which will make daily number 3 times larger if we sum it by group\n",
    "vacc_prog.county.unique()\n"
   ]
  },
  {
   "cell_type": "code",
   "execution_count": 5,
   "id": "72da992b",
   "metadata": {},
   "outputs": [
    {
     "name": "stdout",
     "output_type": "stream",
     "text": [
      "california_flag has 8938 missing data\n"
     ]
    }
   ],
   "source": [
    "# Check for missing data\n",
    "for column in vacc_prog.columns:\n",
    "    count = vacc_prog[column].isnull().sum()\n",
    "    if count > 0:\n",
    "      print(f'{column} has {count} missing data')\n",
    "    \n",
    "# Only California flag column has missing data, can drop the column"
   ]
  },
  {
   "cell_type": "code",
   "execution_count": 6,
   "id": "1ef87283",
   "metadata": {},
   "outputs": [
    {
     "name": "stdout",
     "output_type": "stream",
     "text": [
      "<class 'pandas.core.frame.DataFrame'>\n",
      "RangeIndex: 40238 entries, 0 to 40237\n",
      "Data columns (total 19 columns):\n",
      " #   Column                          Non-Null Count  Dtype \n",
      "---  ------                          --------------  ----- \n",
      " 0   county                          40238 non-null  object\n",
      " 1   administered_date               40238 non-null  object\n",
      " 2   total_doses                     40238 non-null  int64 \n",
      " 3   cumulative_total_doses          40238 non-null  int64 \n",
      " 4   pfizer_doses                    40238 non-null  int64 \n",
      " 5   cumulative_pfizer_doses         40238 non-null  int64 \n",
      " 6   moderna_doses                   40238 non-null  int64 \n",
      " 7   cumulative_moderna_doses        40238 non-null  int64 \n",
      " 8   jj_doses                        40238 non-null  int64 \n",
      " 9   cumulative_jj_doses             40238 non-null  int64 \n",
      " 10  partially_vaccinated            40238 non-null  int64 \n",
      " 11  total_partially_vaccinated      40238 non-null  int64 \n",
      " 12  fully_vaccinated                40238 non-null  int64 \n",
      " 13  cumulative_fully_vaccinated     40238 non-null  int64 \n",
      " 14  at_least_one_dose               40238 non-null  int64 \n",
      " 15  cumulative_at_least_one_dose    40238 non-null  int64 \n",
      " 16  california_flag                 31300 non-null  object\n",
      " 17  booster_recip_count             40238 non-null  int64 \n",
      " 18  cumulative_booster_recip_count  40238 non-null  int64 \n",
      "dtypes: int64(16), object(3)\n",
      "memory usage: 5.8+ MB\n"
     ]
    }
   ],
   "source": [
    "# Data type on the table looks already cleaned\n",
    "vacc_prog.info()"
   ]
  },
  {
   "cell_type": "markdown",
   "id": "fa6aa39c",
   "metadata": {},
   "source": [
    "cumulative data does not privode much information, therefore can drop them."
   ]
  },
  {
   "cell_type": "code",
   "execution_count": 7,
   "id": "efe50736",
   "metadata": {},
   "outputs": [],
   "source": [
    "# Extract only \"All CA Counties\"\n",
    "vacc_prog_by_date = vacc_prog[vacc_prog['county'] == 'All CA Counties']\n",
    "vacc_prog_by_date.set_index('administered_date', inplace=True)\n"
   ]
  },
  {
   "cell_type": "code",
   "execution_count": 8,
   "id": "1b25f58a",
   "metadata": {},
   "outputs": [
    {
     "data": {
      "text/plain": [
       "[Text(0, 0, '2020-01-05'),\n",
       " Text(50, 0, '2020-09-14'),\n",
       " Text(100, 0, '2020-11-03'),\n",
       " Text(150, 0, '2020-12-23'),\n",
       " Text(200, 0, '2021-02-11'),\n",
       " Text(250, 0, '2021-04-02'),\n",
       " Text(300, 0, '2021-05-22'),\n",
       " Text(350, 0, '2021-07-11'),\n",
       " Text(400, 0, '2021-08-30'),\n",
       " Text(450, 0, '2021-10-19'),\n",
       " Text(500, 0, '2021-12-08'),\n",
       " Text(550, 0, '2022-01-27'),\n",
       " Text(600, 0, '2022-03-18')]"
      ]
     },
     "execution_count": 8,
     "metadata": {},
     "output_type": "execute_result"
    },
    {
     "data": {
      "image/png": "[encoded data removed]",
      "text/plain": [
       "<Figure size 432x288 with 1 Axes>"
      ]
     },
     "metadata": {
      "needs_background": "light"
     },
     "output_type": "display_data"
    }
   ],
   "source": [
    "ax = vacc_prog_by_date['cumulative_fully_vaccinated'].plot()\n",
    "ax.set_title(\"cumulative_fully_vaccinated trend\")\n",
    "ax.set_xlabel('date')\n",
    "ax.set_ylabel('population')\n",
    "xtick = [i for i in range(0, len(vacc_prog_by_date.index), 50)]\n",
    "xtick_label = [ vacc_prog_by_date.index[i] for i in xtick]\n",
    "ax.set_xticks(xtick)\n",
    "ax.set_xticklabels(xtick_label, rotation=45)"
   ]
  },
  {
   "cell_type": "code",
   "execution_count": 9,
   "id": "ace53c8e",
   "metadata": {},
   "outputs": [
    {
     "data": {
      "text/plain": [
       "27425250"
      ]
     },
     "execution_count": 9,
     "metadata": {},
     "output_type": "execute_result"
    }
   ],
   "source": [
    "vacc_prog_by_date['moderna_doses'].sum()"
   ]
  },
  {
   "cell_type": "code",
   "execution_count": 10,
   "id": "53c484a3",
   "metadata": {},
   "outputs": [
    {
     "data": {
      "text/plain": [
       "administered_date\n",
       "2022-05-05    27425250\n",
       "Name: cumulative_moderna_doses, dtype: int64"
      ]
     },
     "execution_count": 10,
     "metadata": {},
     "output_type": "execute_result"
    }
   ],
   "source": [
    "vacc_prog_by_date['cumulative_moderna_doses'].tail(1)"
   ]
  },
  {
   "cell_type": "code",
   "execution_count": 11,
   "id": "58ea2cee",
   "metadata": {},
   "outputs": [
    {
     "data": {
      "image/png": "[encoded data removed]",
      "text/plain": [
       "<Figure size 432x288 with 1 Axes>"
      ]
     },
     "metadata": {
      "needs_background": "light"
     },
     "output_type": "display_data"
    }
   ],
   "source": [
    "plt.plot(vacc_prog_by_date.index, vacc_prog_by_date['jj_doses'], label='jj_dose')\n",
    "plt.plot(vacc_prog_by_date.index, vacc_prog_by_date['moderna_doses'], label='moderna_dose')\n",
    "plt.plot(vacc_prog_by_date.index, vacc_prog_by_date['pfizer_doses'], label='pfizer_dose')\n",
    "plt.title('dose comparision')\n",
    "plt.xticks(xtick, xtick_label, rotation=45)\n",
    "plt.xlabel('date')\n",
    "plt.ylabel('dose')\n",
    "plt.legend()\n",
    "plt.show()"
   ]
  },
  {
   "cell_type": "code",
   "execution_count": null,
   "id": "31dd58ab",
   "metadata": {},
   "outputs": [],
   "source": []
  }
 ],
 "metadata": {
  "kernelspec": {
   "display_name": "Python 3",
   "language": "python",
   "name": "python3"
  },
  "language_info": {
   "codemirror_mode": {
    "name": "ipython",
    "version": 3
   },
   "file_extension": ".py",
   "mimetype": "text/x-python",
   "name": "python",
   "nbconvert_exporter": "python",
   "pygments_lexer": "ipython3",
   "version": "3.9.7"
  }
 },
 "nbformat": 4,
 "nbformat_minor": 5
}
