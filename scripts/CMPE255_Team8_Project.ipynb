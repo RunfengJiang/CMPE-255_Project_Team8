{
 "cells": [
  {
   "cell_type": "markdown",
   "metadata": {
    "id": "L3yZeaPBJ2qv"
   },
   "source": [
    "# Data Pre-Processing"
   ]
  },
  {
   "cell_type": "code",
   "execution_count": null,
   "metadata": {
    "id": "FsrahNMPIrsJ"
   },
   "outputs": [],
   "source": [
    "import pandas as pd\n",
    "import numpy as np\n",
    "import matplotlib.pyplot as plt\n",
    "from sklearn.preprocessing import OrdinalEncoder, MinMaxScaler, LabelEncoder\n",
    "\n",
    "post_vacc_inf = pd.read_csv(\"../data/Post-Vaccination_Infection_Data.csv\")\n",
    "\n",
    "vacc_prog = pd.read_csv(\"../data/Vaccine_Progress_Dashboard_Data.csv\")"
   ]
  },
  {
   "cell_type": "code",
   "execution_count": null,
   "metadata": {
    "id": "x4hOOKSVM2AT"
   },
   "outputs": [],
   "source": [
    "# Function to find NaN in a given dataset  \n",
    "def returnNaNCount(dataset):\n",
    "  output = {} \n",
    "  for column in dataset.columns:\n",
    "    count = dataset[column].isnull().sum()\n",
    "    if count > 0:\n",
    "      output[column] = count\n",
    "  return output "
   ]
  },
  {
   "cell_type": "code",
   "execution_count": null,
   "metadata": {
    "id": "PDb4j1rKPIF5"
   },
   "outputs": [],
   "source": [
    "# Replace nan value with median in post_vacc_inf\n",
    "def nanReplacer(dataset,meth):\n",
    "  data = dataset.copy()\n",
    "  tempDict = returnNaNCount(dataset)\n",
    "  for key in tempDict:\n",
    "    if meth == 'median':\n",
    "      data[key].fillna(data[key].median(),inplace=True)\n",
    "    if meth == 'mean':\n",
    "      data[key].fillna(data[key].mean(),inplace=True)\n",
    "  return data"
   ]
  },
  {
   "cell_type": "code",
   "execution_count": null,
   "metadata": {
    "id": "s_1A7V3oXrCf"
   },
   "outputs": [],
   "source": [
    "def scaler(data,range):\n",
    "  tool = MinMaxScaler(feature_range = range)\n",
    "  return tool.fit_transform(data)"
   ]
  },
  {
   "cell_type": "code",
   "execution_count": null,
   "metadata": {
    "id": "_g-xBKDmaCES"
   },
   "outputs": [],
   "source": [
    "# Note the two dataframe needs to have same column number counts\n",
    "def copyColumnName(tobeReplace,target):\n",
    "  index = 0\n",
    "  for column in target.columns:\n",
    "    tobeReplace.rename({tobeReplace.columns[index]:column},axis=1,inplace=True)\n",
    "    index += 1\n",
    "  return tobeReplace"
   ]
  },
  {
   "cell_type": "code",
   "execution_count": null,
   "metadata": {
    "colab": {
     "base_uri": "https://localhost:8080/"
    },
    "id": "_LnJonRHJ1gS",
    "outputId": "4bbc7de1-f92f-4a36-8ab5-c6cb2c7ac6a5"
   },
   "outputs": [],
   "source": [
    "post_vacc_inf.info()"
   ]
  },
  {
   "cell_type": "code",
   "execution_count": null,
   "metadata": {
    "colab": {
     "base_uri": "https://localhost:8080/"
    },
    "id": "Ut0CuX8pKwu4",
    "outputId": "309d1c31-e38f-4a83-a745-13df920eabf1"
   },
   "outputs": [],
   "source": [
    "vacc_prog.info()"
   ]
  },
  {
   "cell_type": "code",
   "execution_count": null,
   "metadata": {
    "id": "XunnB_UFTd0Z"
   },
   "outputs": [],
   "source": [
    "tempPd = nanReplacer(post_vacc_inf,meth = 'median')"
   ]
  },
  {
   "cell_type": "code",
   "execution_count": null,
   "metadata": {
    "colab": {
     "base_uri": "https://localhost:8080/"
    },
    "id": "CAQsMf7eWjvG",
    "outputId": "5a5e8ee2-19a6-408c-fea1-2d980964df9d"
   },
   "outputs": [],
   "source": [
    "tempPd.info()"
   ]
  },
  {
   "cell_type": "code",
   "execution_count": null,
   "metadata": {
    "id": "5O3vVvx_Tjji"
   },
   "outputs": [],
   "source": [
    "# post vacc inf encoding process\n",
    "leEnc = LabelEncoder()\n",
    "tempPd['date'] = leEnc.fit_transform(tempPd['date'])\n",
    "tempPd['area'] = leEnc.fit_transform(tempPd['area'])\n",
    "tempPd['area_type'] = leEnc.fit_transform(tempPd['area_type'])"
   ]
  },
  {
   "cell_type": "code",
   "execution_count": null,
   "metadata": {
    "id": "PLMBlJdgXRch"
   },
   "outputs": [],
   "source": [
    "# post vacc inf scaling process \n",
    "tempPd = scaler(tempPd,range = (0,1))"
   ]
  },
  {
   "cell_type": "code",
   "execution_count": null,
   "metadata": {
    "id": "i86DkbvKYbxQ"
   },
   "outputs": [],
   "source": [
    "tempPd = pd.DataFrame(tempPd)"
   ]
  },
  {
   "cell_type": "code",
   "execution_count": null,
   "metadata": {
    "colab": {
     "base_uri": "https://localhost:8080/",
     "height": 456
    },
    "id": "Dbj0rN0SYt_U",
    "outputId": "911bd6c9-7a4e-4150-9464-dc58e674326d"
   },
   "outputs": [],
   "source": [
    "tempPd.head(10)"
   ]
  },
  {
   "cell_type": "code",
   "execution_count": null,
   "metadata": {
    "id": "4hQo7HKxb7bd"
   },
   "outputs": [],
   "source": [
    "tempPd = copyColumnName(tempPd,post_vacc_inf)"
   ]
  },
  {
   "cell_type": "code",
   "execution_count": null,
   "metadata": {
    "colab": {
     "base_uri": "https://localhost:8080/",
     "height": 456
    },
    "id": "WrkSE3tUcEsz",
    "outputId": "c1cacb18-b9fb-4460-8065-b86bf7819de2"
   },
   "outputs": [],
   "source": [
    "tempPd.head(10)"
   ]
  }
 ],
 "metadata": {
  "colab": {
   "collapsed_sections": [],
   "name": "CMPE255_Team8_Project.ipynb",
   "provenance": []
  },
  "kernelspec": {
   "display_name": "Python 3",
   "language": "python",
   "name": "python3"
  },
  "language_info": {
   "codemirror_mode": {
    "name": "ipython",
    "version": 3
   },
   "file_extension": ".py",
   "mimetype": "text/x-python",
   "name": "python",
   "nbconvert_exporter": "python",
   "pygments_lexer": "ipython3",
   "version": "3.9.7"
  }
 },
 "nbformat": 4,
 "nbformat_minor": 1
}
