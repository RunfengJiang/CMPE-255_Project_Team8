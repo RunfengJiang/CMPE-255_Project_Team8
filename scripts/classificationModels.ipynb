{
  "nbformat": 4,
  "nbformat_minor": 0,
  "metadata": {
    "colab": {
      "name": "classificationModels.ipynb",
      "provenance": [],
      "collapsed_sections": []
    },
    "kernelspec": {
      "name": "python3",
      "display_name": "Python 3"
    },
    "language_info": {
      "name": "python"
    }
  },
  "cells": [
    {
      "cell_type": "code",
      "execution_count": 25,
      "metadata": {
        "colab": {
          "base_uri": "https://localhost:8080/"
        },
        "id": "NGONI_AYU9_Y",
        "outputId": "365dd921-1454-4cdc-81e7-885ec8a55b6c"
      },
      "outputs": [
        {
          "output_type": "stream",
          "name": "stdout",
          "text": [
            "<class 'pandas.core.frame.DataFrame'>\n",
            "RangeIndex: 36580 entries, 0 to 36579\n",
            "Data columns (total 19 columns):\n",
            " #   Column                          Non-Null Count  Dtype \n",
            "---  ------                          --------------  ----- \n",
            " 0   county                          36580 non-null  object\n",
            " 1   administered_date               36580 non-null  object\n",
            " 2   total_doses                     36580 non-null  int64 \n",
            " 3   cumulative_total_doses          36580 non-null  int64 \n",
            " 4   pfizer_doses                    36580 non-null  int64 \n",
            " 5   cumulative_pfizer_doses         36580 non-null  int64 \n",
            " 6   moderna_doses                   36580 non-null  int64 \n",
            " 7   cumulative_moderna_doses        36580 non-null  int64 \n",
            " 8   jj_doses                        36580 non-null  int64 \n",
            " 9   cumulative_jj_doses             36580 non-null  int64 \n",
            " 10  partially_vaccinated            36580 non-null  int64 \n",
            " 11  total_partially_vaccinated      36580 non-null  int64 \n",
            " 12  fully_vaccinated                36580 non-null  int64 \n",
            " 13  cumulative_fully_vaccinated     36580 non-null  int64 \n",
            " 14  at_least_one_dose               36580 non-null  int64 \n",
            " 15  cumulative_at_least_one_dose    36580 non-null  int64 \n",
            " 16  california_flag                 27709 non-null  object\n",
            " 17  booster_recip_count             36580 non-null  int64 \n",
            " 18  cumulative_booster_recip_count  36580 non-null  int64 \n",
            "dtypes: int64(16), object(3)\n",
            "memory usage: 5.3+ MB\n"
          ]
        },
        {
          "output_type": "execute_result",
          "data": {
            "text/plain": [
              "0        2020-01-05\n",
              "1        2020-03-03\n",
              "2        2020-07-27\n",
              "3        2020-07-29\n",
              "4        2020-07-30\n",
              "            ...    \n",
              "36575    2022-03-02\n",
              "36576    2022-03-03\n",
              "36577    2022-03-04\n",
              "36578    2022-03-05\n",
              "36579    2022-03-06\n",
              "Name: administered_date, Length: 36580, dtype: object"
            ]
          },
          "metadata": {},
          "execution_count": 25
        }
      ],
      "source": [
        "from numpy import NaN\n",
        "import pandas as pd\n",
        "\n",
        "# Import the data as a pandas dataframe\n",
        "progress = pd.read_csv(\"/content/Vaccine_Progress_Dashboard_Data.csv\")\n",
        "\n",
        "progress.info()\n",
        "progress['administered_date']"
      ]
    },
    {
      "cell_type": "code",
      "source": [
        "# need to fill with california flag for the null values\n",
        "progress[progress['california_flag'].isnull()]"
      ],
      "metadata": {
        "colab": {
          "base_uri": "https://localhost:8080/",
          "height": 488
        },
        "id": "bG1EKRD0Yfxv",
        "outputId": "b06879d6-0ca1-4c20-abf7-badf9428e6dc"
      },
      "execution_count": 26,
      "outputs": [
        {
          "output_type": "execute_result",
          "data": {
            "text/plain": [
              "       county administered_date  total_doses  cumulative_total_doses  \\\n",
              "0     Alameda        2020-01-05            0                       0   \n",
              "1     Alameda        2020-03-03            0                       0   \n",
              "2     Alameda        2020-07-27            0                       0   \n",
              "3     Alameda        2020-07-29            0                       1   \n",
              "4     Alameda        2020-07-30            0                       1   \n",
              "...       ...               ...          ...                     ...   \n",
              "8866     Yuba        2020-12-11            0                       2   \n",
              "8867     Yuba        2020-12-12            0                       2   \n",
              "8868     Yuba        2020-12-13            0                       2   \n",
              "8869     Yuba        2020-12-14            0                       2   \n",
              "8870     Yuba        2020-12-15            0                       2   \n",
              "\n",
              "      pfizer_doses  cumulative_pfizer_doses  moderna_doses  \\\n",
              "0                0                        0              0   \n",
              "1                0                        0              0   \n",
              "2                0                        0              0   \n",
              "3                0                        0              0   \n",
              "4                0                        0              0   \n",
              "...            ...                      ...            ...   \n",
              "8866             0                        0              0   \n",
              "8867             0                        0              0   \n",
              "8868             0                        0              0   \n",
              "8869             0                        0              0   \n",
              "8870             0                        0              0   \n",
              "\n",
              "      cumulative_moderna_doses  jj_doses  cumulative_jj_doses  \\\n",
              "0                            0         0                    0   \n",
              "1                            0         0                    0   \n",
              "2                            0         0                    0   \n",
              "3                            1         0                    0   \n",
              "4                            1         0                    0   \n",
              "...                        ...       ...                  ...   \n",
              "8866                         2         0                    0   \n",
              "8867                         2         0                    0   \n",
              "8868                         2         0                    0   \n",
              "8869                         2         0                    0   \n",
              "8870                         2         0                    0   \n",
              "\n",
              "      partially_vaccinated  total_partially_vaccinated  fully_vaccinated  \\\n",
              "0                        0                           0                 0   \n",
              "1                        0                           0                 0   \n",
              "2                        0                           0                 0   \n",
              "3                        0                           0                 0   \n",
              "4                        0                           0                 0   \n",
              "...                    ...                         ...               ...   \n",
              "8866                     0                           0                 0   \n",
              "8867                     0                           0                 0   \n",
              "8868                     0                           0                 0   \n",
              "8869                     0                           0                 0   \n",
              "8870                     0                           0                 0   \n",
              "\n",
              "      cumulative_fully_vaccinated  at_least_one_dose  \\\n",
              "0                               0                  0   \n",
              "1                               0                  0   \n",
              "2                               0                  0   \n",
              "3                               0                  0   \n",
              "4                               0                  0   \n",
              "...                           ...                ...   \n",
              "8866                            1                  0   \n",
              "8867                            1                  0   \n",
              "8868                            1                  0   \n",
              "8869                            1                  0   \n",
              "8870                            1                  0   \n",
              "\n",
              "      cumulative_at_least_one_dose california_flag  booster_recip_count  \\\n",
              "0                                0             NaN                    0   \n",
              "1                                0             NaN                    0   \n",
              "2                                0             NaN                    0   \n",
              "3                                1             NaN                    0   \n",
              "4                                1             NaN                    0   \n",
              "...                            ...             ...                  ...   \n",
              "8866                             1             NaN                    0   \n",
              "8867                             1             NaN                    0   \n",
              "8868                             1             NaN                    0   \n",
              "8869                             1             NaN                    0   \n",
              "8870                             1             NaN                    0   \n",
              "\n",
              "      cumulative_booster_recip_count  \n",
              "0                                  0  \n",
              "1                                  0  \n",
              "2                                  0  \n",
              "3                                  0  \n",
              "4                                  0  \n",
              "...                              ...  \n",
              "8866                               0  \n",
              "8867                               0  \n",
              "8868                               0  \n",
              "8869                               0  \n",
              "8870                               0  \n",
              "\n",
              "[8871 rows x 19 columns]"
            ],
            "text/html": [
              "\n",
              "  <div id=\"df-acf1c69a-72dd-4a7c-8aa6-9edda7ddfdbc\">\n",
              "    <div class=\"colab-df-container\">\n",
              "      <div>\n",
              "<style scoped>\n",
              "    .dataframe tbody tr th:only-of-type {\n",
              "        vertical-align: middle;\n",
              "    }\n",
              "\n",
              "    .dataframe tbody tr th {\n",
              "        vertical-align: top;\n",
              "    }\n",
              "\n",
              "    .dataframe thead th {\n",
              "        text-align: right;\n",
              "    }\n",
              "</style>\n",
              "<table border=\"1\" class=\"dataframe\">\n",
              "  <thead>\n",
              "    <tr style=\"text-align: right;\">\n",
              "      <th></th>\n",
              "      <th>county</th>\n",
              "      <th>administered_date</th>\n",
              "      <th>total_doses</th>\n",
              "      <th>cumulative_total_doses</th>\n",
              "      <th>pfizer_doses</th>\n",
              "      <th>cumulative_pfizer_doses</th>\n",
              "      <th>moderna_doses</th>\n",
              "      <th>cumulative_moderna_doses</th>\n",
              "      <th>jj_doses</th>\n",
              "      <th>cumulative_jj_doses</th>\n",
              "      <th>partially_vaccinated</th>\n",
              "      <th>total_partially_vaccinated</th>\n",
              "      <th>fully_vaccinated</th>\n",
              "      <th>cumulative_fully_vaccinated</th>\n",
              "      <th>at_least_one_dose</th>\n",
              "      <th>cumulative_at_least_one_dose</th>\n",
              "      <th>california_flag</th>\n",
              "      <th>booster_recip_count</th>\n",
              "      <th>cumulative_booster_recip_count</th>\n",
              "    </tr>\n",
              "  </thead>\n",
              "  <tbody>\n",
              "    <tr>\n",
              "      <th>0</th>\n",
              "      <td>Alameda</td>\n",
              "      <td>2020-01-05</td>\n",
              "      <td>0</td>\n",
              "      <td>0</td>\n",
              "      <td>0</td>\n",
              "      <td>0</td>\n",
              "      <td>0</td>\n",
              "      <td>0</td>\n",
              "      <td>0</td>\n",
              "      <td>0</td>\n",
              "      <td>0</td>\n",
              "      <td>0</td>\n",
              "      <td>0</td>\n",
              "      <td>0</td>\n",
              "      <td>0</td>\n",
              "      <td>0</td>\n",
              "      <td>NaN</td>\n",
              "      <td>0</td>\n",
              "      <td>0</td>\n",
              "    </tr>\n",
              "    <tr>\n",
              "      <th>1</th>\n",
              "      <td>Alameda</td>\n",
              "      <td>2020-03-03</td>\n",
              "      <td>0</td>\n",
              "      <td>0</td>\n",
              "      <td>0</td>\n",
              "      <td>0</td>\n",
              "      <td>0</td>\n",
              "      <td>0</td>\n",
              "      <td>0</td>\n",
              "      <td>0</td>\n",
              "      <td>0</td>\n",
              "      <td>0</td>\n",
              "      <td>0</td>\n",
              "      <td>0</td>\n",
              "      <td>0</td>\n",
              "      <td>0</td>\n",
              "      <td>NaN</td>\n",
              "      <td>0</td>\n",
              "      <td>0</td>\n",
              "    </tr>\n",
              "    <tr>\n",
              "      <th>2</th>\n",
              "      <td>Alameda</td>\n",
              "      <td>2020-07-27</td>\n",
              "      <td>0</td>\n",
              "      <td>0</td>\n",
              "      <td>0</td>\n",
              "      <td>0</td>\n",
              "      <td>0</td>\n",
              "      <td>0</td>\n",
              "      <td>0</td>\n",
              "      <td>0</td>\n",
              "      <td>0</td>\n",
              "      <td>0</td>\n",
              "      <td>0</td>\n",
              "      <td>0</td>\n",
              "      <td>0</td>\n",
              "      <td>0</td>\n",
              "      <td>NaN</td>\n",
              "      <td>0</td>\n",
              "      <td>0</td>\n",
              "    </tr>\n",
              "    <tr>\n",
              "      <th>3</th>\n",
              "      <td>Alameda</td>\n",
              "      <td>2020-07-29</td>\n",
              "      <td>0</td>\n",
              "      <td>1</td>\n",
              "      <td>0</td>\n",
              "      <td>0</td>\n",
              "      <td>0</td>\n",
              "      <td>1</td>\n",
              "      <td>0</td>\n",
              "      <td>0</td>\n",
              "      <td>0</td>\n",
              "      <td>0</td>\n",
              "      <td>0</td>\n",
              "      <td>0</td>\n",
              "      <td>0</td>\n",
              "      <td>1</td>\n",
              "      <td>NaN</td>\n",
              "      <td>0</td>\n",
              "      <td>0</td>\n",
              "    </tr>\n",
              "    <tr>\n",
              "      <th>4</th>\n",
              "      <td>Alameda</td>\n",
              "      <td>2020-07-30</td>\n",
              "      <td>0</td>\n",
              "      <td>1</td>\n",
              "      <td>0</td>\n",
              "      <td>0</td>\n",
              "      <td>0</td>\n",
              "      <td>1</td>\n",
              "      <td>0</td>\n",
              "      <td>0</td>\n",
              "      <td>0</td>\n",
              "      <td>0</td>\n",
              "      <td>0</td>\n",
              "      <td>0</td>\n",
              "      <td>0</td>\n",
              "      <td>1</td>\n",
              "      <td>NaN</td>\n",
              "      <td>0</td>\n",
              "      <td>0</td>\n",
              "    </tr>\n",
              "    <tr>\n",
              "      <th>...</th>\n",
              "      <td>...</td>\n",
              "      <td>...</td>\n",
              "      <td>...</td>\n",
              "      <td>...</td>\n",
              "      <td>...</td>\n",
              "      <td>...</td>\n",
              "      <td>...</td>\n",
              "      <td>...</td>\n",
              "      <td>...</td>\n",
              "      <td>...</td>\n",
              "      <td>...</td>\n",
              "      <td>...</td>\n",
              "      <td>...</td>\n",
              "      <td>...</td>\n",
              "      <td>...</td>\n",
              "      <td>...</td>\n",
              "      <td>...</td>\n",
              "      <td>...</td>\n",
              "      <td>...</td>\n",
              "    </tr>\n",
              "    <tr>\n",
              "      <th>8866</th>\n",
              "      <td>Yuba</td>\n",
              "      <td>2020-12-11</td>\n",
              "      <td>0</td>\n",
              "      <td>2</td>\n",
              "      <td>0</td>\n",
              "      <td>0</td>\n",
              "      <td>0</td>\n",
              "      <td>2</td>\n",
              "      <td>0</td>\n",
              "      <td>0</td>\n",
              "      <td>0</td>\n",
              "      <td>0</td>\n",
              "      <td>0</td>\n",
              "      <td>1</td>\n",
              "      <td>0</td>\n",
              "      <td>1</td>\n",
              "      <td>NaN</td>\n",
              "      <td>0</td>\n",
              "      <td>0</td>\n",
              "    </tr>\n",
              "    <tr>\n",
              "      <th>8867</th>\n",
              "      <td>Yuba</td>\n",
              "      <td>2020-12-12</td>\n",
              "      <td>0</td>\n",
              "      <td>2</td>\n",
              "      <td>0</td>\n",
              "      <td>0</td>\n",
              "      <td>0</td>\n",
              "      <td>2</td>\n",
              "      <td>0</td>\n",
              "      <td>0</td>\n",
              "      <td>0</td>\n",
              "      <td>0</td>\n",
              "      <td>0</td>\n",
              "      <td>1</td>\n",
              "      <td>0</td>\n",
              "      <td>1</td>\n",
              "      <td>NaN</td>\n",
              "      <td>0</td>\n",
              "      <td>0</td>\n",
              "    </tr>\n",
              "    <tr>\n",
              "      <th>8868</th>\n",
              "      <td>Yuba</td>\n",
              "      <td>2020-12-13</td>\n",
              "      <td>0</td>\n",
              "      <td>2</td>\n",
              "      <td>0</td>\n",
              "      <td>0</td>\n",
              "      <td>0</td>\n",
              "      <td>2</td>\n",
              "      <td>0</td>\n",
              "      <td>0</td>\n",
              "      <td>0</td>\n",
              "      <td>0</td>\n",
              "      <td>0</td>\n",
              "      <td>1</td>\n",
              "      <td>0</td>\n",
              "      <td>1</td>\n",
              "      <td>NaN</td>\n",
              "      <td>0</td>\n",
              "      <td>0</td>\n",
              "    </tr>\n",
              "    <tr>\n",
              "      <th>8869</th>\n",
              "      <td>Yuba</td>\n",
              "      <td>2020-12-14</td>\n",
              "      <td>0</td>\n",
              "      <td>2</td>\n",
              "      <td>0</td>\n",
              "      <td>0</td>\n",
              "      <td>0</td>\n",
              "      <td>2</td>\n",
              "      <td>0</td>\n",
              "      <td>0</td>\n",
              "      <td>0</td>\n",
              "      <td>0</td>\n",
              "      <td>0</td>\n",
              "      <td>1</td>\n",
              "      <td>0</td>\n",
              "      <td>1</td>\n",
              "      <td>NaN</td>\n",
              "      <td>0</td>\n",
              "      <td>0</td>\n",
              "    </tr>\n",
              "    <tr>\n",
              "      <th>8870</th>\n",
              "      <td>Yuba</td>\n",
              "      <td>2020-12-15</td>\n",
              "      <td>0</td>\n",
              "      <td>2</td>\n",
              "      <td>0</td>\n",
              "      <td>0</td>\n",
              "      <td>0</td>\n",
              "      <td>2</td>\n",
              "      <td>0</td>\n",
              "      <td>0</td>\n",
              "      <td>0</td>\n",
              "      <td>0</td>\n",
              "      <td>0</td>\n",
              "      <td>1</td>\n",
              "      <td>0</td>\n",
              "      <td>1</td>\n",
              "      <td>NaN</td>\n",
              "      <td>0</td>\n",
              "      <td>0</td>\n",
              "    </tr>\n",
              "  </tbody>\n",
              "</table>\n",
              "<p>8871 rows × 19 columns</p>\n",
              "</div>\n",
              "      <button class=\"colab-df-convert\" onclick=\"convertToInteractive('df-acf1c69a-72dd-4a7c-8aa6-9edda7ddfdbc')\"\n",
              "              title=\"Convert this dataframe to an interactive table.\"\n",
              "              style=\"display:none;\">\n",
              "        \n",
              "  <svg xmlns=\"http://www.w3.org/2000/svg\" height=\"24px\"viewBox=\"0 0 24 24\"\n",
              "       width=\"24px\">\n",
              "    <path d=\"M0 0h24v24H0V0z\" fill=\"none\"/>\n",
              "    <path d=\"M18.56 5.44l.94 2.06.94-2.06 2.06-.94-2.06-.94-.94-2.06-.94 2.06-2.06.94zm-11 1L8.5 8.5l.94-2.06 2.06-.94-2.06-.94L8.5 2.5l-.94 2.06-2.06.94zm10 10l.94 2.06.94-2.06 2.06-.94-2.06-.94-.94-2.06-.94 2.06-2.06.94z\"/><path d=\"M17.41 7.96l-1.37-1.37c-.4-.4-.92-.59-1.43-.59-.52 0-1.04.2-1.43.59L10.3 9.45l-7.72 7.72c-.78.78-.78 2.05 0 2.83L4 21.41c.39.39.9.59 1.41.59.51 0 1.02-.2 1.41-.59l7.78-7.78 2.81-2.81c.8-.78.8-2.07 0-2.86zM5.41 20L4 18.59l7.72-7.72 1.47 1.35L5.41 20z\"/>\n",
              "  </svg>\n",
              "      </button>\n",
              "      \n",
              "  <style>\n",
              "    .colab-df-container {\n",
              "      display:flex;\n",
              "      flex-wrap:wrap;\n",
              "      gap: 12px;\n",
              "    }\n",
              "\n",
              "    .colab-df-convert {\n",
              "      background-color: #E8F0FE;\n",
              "      border: none;\n",
              "      border-radius: 50%;\n",
              "      cursor: pointer;\n",
              "      display: none;\n",
              "      fill: #1967D2;\n",
              "      height: 32px;\n",
              "      padding: 0 0 0 0;\n",
              "      width: 32px;\n",
              "    }\n",
              "\n",
              "    .colab-df-convert:hover {\n",
              "      background-color: #E2EBFA;\n",
              "      box-shadow: 0px 1px 2px rgba(60, 64, 67, 0.3), 0px 1px 3px 1px rgba(60, 64, 67, 0.15);\n",
              "      fill: #174EA6;\n",
              "    }\n",
              "\n",
              "    [theme=dark] .colab-df-convert {\n",
              "      background-color: #3B4455;\n",
              "      fill: #D2E3FC;\n",
              "    }\n",
              "\n",
              "    [theme=dark] .colab-df-convert:hover {\n",
              "      background-color: #434B5C;\n",
              "      box-shadow: 0px 1px 3px 1px rgba(0, 0, 0, 0.15);\n",
              "      filter: drop-shadow(0px 1px 2px rgba(0, 0, 0, 0.3));\n",
              "      fill: #FFFFFF;\n",
              "    }\n",
              "  </style>\n",
              "\n",
              "      <script>\n",
              "        const buttonEl =\n",
              "          document.querySelector('#df-acf1c69a-72dd-4a7c-8aa6-9edda7ddfdbc button.colab-df-convert');\n",
              "        buttonEl.style.display =\n",
              "          google.colab.kernel.accessAllowed ? 'block' : 'none';\n",
              "\n",
              "        async function convertToInteractive(key) {\n",
              "          const element = document.querySelector('#df-acf1c69a-72dd-4a7c-8aa6-9edda7ddfdbc');\n",
              "          const dataTable =\n",
              "            await google.colab.kernel.invokeFunction('convertToInteractive',\n",
              "                                                     [key], {});\n",
              "          if (!dataTable) return;\n",
              "\n",
              "          const docLinkHtml = 'Like what you see? Visit the ' +\n",
              "            '<a target=\"_blank\" href=https://colab.research.google.com/notebooks/data_table.ipynb>data table notebook</a>'\n",
              "            + ' to learn more about interactive tables.';\n",
              "          element.innerHTML = '';\n",
              "          dataTable['output_type'] = 'display_data';\n",
              "          await google.colab.output.renderOutput(dataTable, element);\n",
              "          const docLink = document.createElement('div');\n",
              "          docLink.innerHTML = docLinkHtml;\n",
              "          element.appendChild(docLink);\n",
              "        }\n",
              "      </script>\n",
              "    </div>\n",
              "  </div>\n",
              "  "
            ]
          },
          "metadata": {},
          "execution_count": 26
        }
      ]
    },
    {
      "cell_type": "code",
      "source": [
        "from sklearn.tree import DecisionTreeClassifier\n",
        "from sklearn.ensemble import RandomForestClassifier\n",
        "\n",
        "from sklearn.metrics import confusion_matrix, accuracy_score\n",
        "from sklearn.preprocessing import MinMaxScaler\n",
        "from sklearn.model_selection import train_test_split\n",
        "import pandas as pd\n",
        "import numpy as np\n",
        "\n",
        "\n",
        "\n",
        "# function for building the decision tree\n",
        "# Return: trained decision tree\n",
        "def decision_tree_build(train_data, label_data, criterion, min_samples_split, max_depth):\n",
        "  print(\"BUILDING DECISION TREE ... \")\n",
        "  print(\"Training Data Shape: \" + str(train_data.shape))\n",
        "  dt_clf = DecisionTreeClassifier(criterion = criterion,\n",
        "                                  min_samples_split = min_samples_split,\n",
        "                                  max_depth = max_depth)\n",
        "  dt_clf.fit(train_data, label_data)\n",
        "  return dt_clf\n",
        "\n",
        "# function for building the random forest\n",
        "# Return: trained random forest classifier\n",
        "def random_forest_build(train_data, label_data, criterion, n_estimators):\n",
        "  print(\"BUILDING RANDOM FOREST ... \")\n",
        "  print(\"Training Data Shape: \" + str(train_data.shape))\n",
        "  rf_clf = RandomForestClassifier(n_estimators = n_estimators,\n",
        "                                  criterion = criterion)\n",
        "  rf_clf.fit(train_data, label_data)\n",
        "  return rf_clf\n",
        "\n",
        "# prediction function for the given data and classifier\n",
        "# Return: output of the prediction\n",
        "def classifier_prediction(data, trained_classifier):\n",
        "  print(\"Feeded Data Shape: \" + str(data.shape))\n",
        "  pred = trained_classifier.predict(data)\n",
        "  print(\"Output Prediction Shape: \" + str(pred.shape))\n",
        "  return pred\n",
        "\n",
        "# show the accuracy of two data set, one should be label and another one is the prediction\n",
        "# Simply print the result\n",
        "def output_validation(pred_data, labels):\n",
        "  # can be replaced by self developed accuracy function\n",
        "  accuracy = accuracy_score(labels, pred_data)\n",
        "  print(\"Acuracy: \"+ str(accuracy))\n",
        "  print(\"Confusion Matrix: \\n\" + str(confusion_matrix(labels, pred_data)))\n",
        "\n",
        "\n",
        "\n",
        "##### testing ######\n",
        "credit_approval = pd.read_csv(\"/content/crx.data\", header = None)\n",
        "credit_approval = credit_approval.replace(\"?\", np.NaN)\n",
        "credit_approval.dropna(axis=0,inplace=True)\n",
        "from sklearn.preprocessing import LabelEncoder\n",
        "le = LabelEncoder()\n",
        "for column in credit_approval.columns:\n",
        "  if credit_approval[column].dtype == \"object\":\n",
        "    credit_approval[column] = le.fit_transform(credit_approval[column])\n",
        "credit_approval = credit_approval.drop([11, 13], axis=1)\n",
        "ca_arr = credit_approval.values\n",
        "\n",
        "# Segregate features and labels into separate variables\n",
        "X,y = ca_arr[:,0:12] , ca_arr[:,13]\n",
        "\n",
        "# Split into train and test sets\n",
        "X_train, X_test, y_train, y_test = train_test_split(X,y,test_size=0.33)\n",
        "\n",
        "scaler = MinMaxScaler()\n",
        "# transform data\n",
        "scaler.fit(X_train)\n",
        "X_train = scaler.transform(X_train)\n",
        "X_test = scaler.transform(X_test)\n",
        "\n",
        "# Example of using decision tree model\n",
        "decision_model = decision_tree_build(X_train, y_train, criterion=\"entropy\",min_samples_split=4,max_depth=3)\n",
        "dt_prediction = classifier_prediction(X_test, decision_model)\n",
        "accuracy = output_validation(dt_prediction, y_test)\n",
        "print(accuracy)\n",
        "\n",
        "# Example of using randome forest model\n",
        "forest_model = random_forest_build(X_train, y_train, n_estimators=20, criterion=\"entropy\")\n",
        "rf_prediction = classifier_prediction(X_test, forest_model)\n",
        "accuracy = output_validation(rf_prediction, y_test)\n",
        "print(accuracy)"
      ],
      "metadata": {
        "id": "GbcMr61YcJJA",
        "colab": {
          "base_uri": "https://localhost:8080/"
        },
        "outputId": "d2e8478a-edaf-4a43-a76e-6d1407f8baf9"
      },
      "execution_count": 27,
      "outputs": [
        {
          "output_type": "stream",
          "name": "stdout",
          "text": [
            "BUILDING DECISION TREE ... \n",
            "Training Data Shape: (437, 12)\n",
            "Feeded Data Shape: (216, 12)\n",
            "Output Prediction Shape: (216,)\n",
            "Acuracy: 0.8425925925925926\n",
            "Confusion Matrix: \n",
            "[[ 73  22]\n",
            " [ 12 109]]\n",
            "None\n",
            "BUILDING RANDOM FOREST ... \n",
            "Training Data Shape: (437, 12)\n",
            "Feeded Data Shape: (216, 12)\n",
            "Output Prediction Shape: (216,)\n",
            "Acuracy: 0.8518518518518519\n",
            "Confusion Matrix: \n",
            "[[ 81  14]\n",
            " [ 18 103]]\n",
            "None\n"
          ]
        }
      ]
    },
    {
      "cell_type": "code",
      "source": [
        "#Using PCA and KNN for predictions\n",
        "from sklearn.decomposition import PCA\n",
        "pca = PCA(n_components=2) \n",
        "covid_pca = pca.fit_transform(X_train)"
      ],
      "metadata": {
        "id": "mb4H-dx-FnxL"
      },
      "execution_count": 28,
      "outputs": []
    },
    {
      "cell_type": "code",
      "source": [
        "import matplotlib.pyplot as plt\n",
        "plt.scatter(covid_pca[:,0], covid_pca[:,1])"
      ],
      "metadata": {
        "id": "nlKQUUGnGrWk",
        "outputId": "ee37f9b2-a7a0-4d9d-fb9c-45324129dd86",
        "colab": {
          "base_uri": "https://localhost:8080/",
          "height": 282
        }
      },
      "execution_count": 29,
      "outputs": [
        {
          "output_type": "execute_result",
          "data": {
            "text/plain": [
              "<matplotlib.collections.PathCollection at 0x7f5af6539910>"
            ]
          },
          "metadata": {},
          "execution_count": 29
        },
        {
          "output_type": "display_data",
          "data": {
            "text/plain": [
              "<Figure size 432x288 with 1 Axes>"
            ],
            "image/png": "[encoded data removed]"
          },
          "metadata": {
            "needs_background": "light"
          }
        }
      ]
    },
    {
      "cell_type": "code",
      "source": [
        "from sklearn.cluster import KMeans\n",
        "errors = []\n",
        "ks = []\n",
        "for k in range(1,10):\n",
        "  km = KMeans(n_clusters=k)\n",
        "  pred = km.fit_predict(covid_pca)\n",
        "  error = km.inertia_\n",
        "  ks.append(k)\n",
        "  errors.append(error)\n",
        "\n",
        "plt.plot(ks, errors)"
      ],
      "metadata": {
        "id": "9sw4Zz-KHkU7",
        "outputId": "c0e6cca0-8a77-42f3-8996-c1f5a58199d5",
        "colab": {
          "base_uri": "https://localhost:8080/",
          "height": 282
        }
      },
      "execution_count": 30,
      "outputs": [
        {
          "output_type": "execute_result",
          "data": {
            "text/plain": [
              "[<matplotlib.lines.Line2D at 0x7f5af6521cd0>]"
            ]
          },
          "metadata": {},
          "execution_count": 30
        },
        {
          "output_type": "display_data",
          "data": {
            "text/plain": [
              "<Figure size 432x288 with 1 Axes>"
            ],
            "image/png": "[encoded data removed]"
          },
          "metadata": {
            "needs_background": "light"
          }
        }
      ]
    },
    {
      "cell_type": "code",
      "source": [
        "km = KMeans(n_clusters=4)\n",
        "pred = km.fit_predict(covid_pca)\n",
        "covid_pca_df = pd.DataFrame(covid_pca)"
      ],
      "metadata": {
        "id": "gpDsPXtFH_HD"
      },
      "execution_count": 31,
      "outputs": []
    },
    {
      "cell_type": "code",
      "source": [
        "covid_pca_df['pred'] = pred\n",
        "covid_pca_df.info()"
      ],
      "metadata": {
        "id": "A1pMV0WPIPRB",
        "outputId": "af4fe957-c438-47db-dbb6-6c79402a5018",
        "colab": {
          "base_uri": "https://localhost:8080/"
        }
      },
      "execution_count": 32,
      "outputs": [
        {
          "output_type": "stream",
          "name": "stdout",
          "text": [
            "<class 'pandas.core.frame.DataFrame'>\n",
            "RangeIndex: 437 entries, 0 to 436\n",
            "Data columns (total 3 columns):\n",
            " #   Column  Non-Null Count  Dtype  \n",
            "---  ------  --------------  -----  \n",
            " 0   0       437 non-null    float64\n",
            " 1   1       437 non-null    float64\n",
            " 2   pred    437 non-null    int32  \n",
            "dtypes: float64(2), int32(1)\n",
            "memory usage: 8.7 KB\n"
          ]
        }
      ]
    },
    {
      "cell_type": "code",
      "source": [
        "covid_pca_df['pred'].value_counts()"
      ],
      "metadata": {
        "id": "H7dWeObMIVWK",
        "outputId": "b37e741a-9bfe-46e7-bb09-70fa6731b272",
        "colab": {
          "base_uri": "https://localhost:8080/"
        }
      },
      "execution_count": 33,
      "outputs": [
        {
          "output_type": "execute_result",
          "data": {
            "text/plain": [
              "0    206\n",
              "1    125\n",
              "2     53\n",
              "3     53\n",
              "Name: pred, dtype: int64"
            ]
          },
          "metadata": {},
          "execution_count": 33
        }
      ]
    },
    {
      "cell_type": "code",
      "source": [
        "temp1 = covid_pca_df[covid_pca_df['pred'] == 0]\n",
        "temp2 = covid_pca_df[covid_pca_df['pred'] == 1]\n",
        "temp3 = covid_pca_df[covid_pca_df['pred'] == 2]\n",
        "temp4 = covid_pca_df[covid_pca_df['pred'] == 3]\n",
        "plt.scatter(temp1[0], temp1[1], color = 'r')\n",
        "plt.scatter(temp2[0], temp2[1], color = 'b')\n",
        "plt.scatter(temp3[0], temp3[1], color = 'g')\n",
        "plt.scatter(temp4[0], temp4[1], color = 'y')\n",
        "plt.show()"
      ],
      "metadata": {
        "id": "8AiSdeB_IbUK",
        "outputId": "17980fac-7a27-4d60-87c2-385ee2b1aeaa",
        "colab": {
          "base_uri": "https://localhost:8080/",
          "height": 265
        }
      },
      "execution_count": 34,
      "outputs": [
        {
          "output_type": "display_data",
          "data": {
            "text/plain": [
              "<Figure size 432x288 with 1 Axes>"
            ],
            "image/png": "[encoded data removed]"
          },
          "metadata": {
            "needs_background": "light"
          }
        }
      ]
    },
    {
      "cell_type": "code",
      "source": [
        "#Fitting the model\n",
        "from sklearn.neighbors import KNeighborsClassifier\n",
        "# Create KNN classifier\n",
        "knn = KNeighborsClassifier(n_neighbors = 4)\n",
        "# Fit the classifier to the data\n",
        "knn.fit(X_train,y_train)"
      ],
      "metadata": {
        "id": "Urf3pQ1WIlFF",
        "outputId": "c6544b7a-9c49-4b94-d360-fa41492211ce",
        "colab": {
          "base_uri": "https://localhost:8080/"
        }
      },
      "execution_count": 35,
      "outputs": [
        {
          "output_type": "execute_result",
          "data": {
            "text/plain": [
              "KNeighborsClassifier(n_neighbors=4)"
            ]
          },
          "metadata": {},
          "execution_count": 35
        }
      ]
    },
    {
      "cell_type": "code",
      "source": [
        "#check accuracy of our model on the test data\n",
        "accuracy = knn.score(X_test, y_test)\n",
        "print(\"Accuracy of KNN is: {}\" .format(accuracy))"
      ],
      "metadata": {
        "id": "TriB_t2-JZKU",
        "outputId": "95dba05f-5c19-4efa-b8a8-3b2f140951d1",
        "colab": {
          "base_uri": "https://localhost:8080/"
        }
      },
      "execution_count": 36,
      "outputs": [
        {
          "output_type": "stream",
          "name": "stdout",
          "text": [
            "Accuracy of KNN is: 0.8611111111111112\n"
          ]
        }
      ]
    },
    {
      "cell_type": "code",
      "source": [
        ""
      ],
      "metadata": {
        "id": "ewEXl4NTJewB"
      },
      "execution_count": 36,
      "outputs": []
    }
  ]
}